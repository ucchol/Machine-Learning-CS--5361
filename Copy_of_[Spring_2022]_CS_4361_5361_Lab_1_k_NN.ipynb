{
  "nbformat": 4,
  "nbformat_minor": 0,
  "metadata": {
    "colab": {
      "private_outputs": true,
      "provenance": [],
      "include_colab_link": true
    },
    "kernelspec": {
      "name": "python3",
      "display_name": "Python 3"
    }
  },
  "cells": [
    {
      "cell_type": "markdown",
      "metadata": {
        "id": "view-in-github",
        "colab_type": "text"
      },
      "source": [
        "<a href=\"https://colab.research.google.com/github/ucchol/Machine-Learning-CS--5361/blob/main/Copy_of_%5BSpring_2022%5D_CS_4361_5361_Lab_1_k_NN.ipynb\" target=\"_parent\"><img src=\"https://colab.research.google.com/assets/colab-badge.svg\" alt=\"Open In Colab\"/></a>"
      ]
    },
    {
      "cell_type": "markdown",
      "source": [
        "## **Before you start**\n",
        "\n",
        "Make a copy of this Colab by clicking on File > Save a Copy in Drive\n",
        "\n",
        "After making a copy, add your student id, last name, and first name to the title."
      ],
      "metadata": {
        "id": "IBzf9VHDzp9J"
      }
    },
    {
      "cell_type": "code",
      "source": [
        "student_name = \"Asif Rahman\"\n",
        "student_id = \"80741895\""
      ],
      "metadata": {
        "id": "RAZs8It7zr2E"
      },
      "execution_count": null,
      "outputs": []
    },
    {
      "cell_type": "markdown",
      "metadata": {
        "id": "MKsRDH5ZUdfasdv"
      },
      "source": [
        "# Classifying Images\n"
      ]
    },
    {
      "cell_type": "markdown",
      "metadata": {
        "id": "43534tdfgs-v"
      },
      "source": [
        "This lab is about classifying images. Each input is a grid of pixel values and each output is a label from a small set of labels. You will start with a simple binary classifier and finish with a multi-class one."
      ]
    },
    {
      "cell_type": "markdown",
      "metadata": {
        "id": "6gKL1mrkyLux"
      },
      "source": [
        "### Grading\n",
        "\n",
        "This assignment is worth a total of 100 points."
      ]
    },
    {
      "cell_type": "code",
      "metadata": {
        "id": "7X58hOMTUH-w"
      },
      "source": [
        "# Import the libraries we'll use below.\n",
        "import numpy as np\n",
        "from matplotlib import pyplot as plt\n",
        "import pandas as pd\n",
        "import seaborn as sns  # for nicer plots\n",
        "sns.set(style='darkgrid')  # default style\n",
        "\n",
        "import tensorflow as tf\n",
        "from tensorflow import keras\n",
        "from keras import metrics"
      ],
      "execution_count": null,
      "outputs": []
    },
    {
      "cell_type": "markdown",
      "metadata": {
        "id": "rHLcriKWLRe4"
      },
      "source": [
        "## Understanding the data\n",
        "We'll be using the [Fashion MNIST](https://github.com/zalandoresearch/fashion-mnist) dataset. This consists of 70,000 grayscale images (28x28). Each image is associated with 1 of 10 classes. The dataset was split by the creators; there are 60,000 training images and 10,000 test images. \n",
        "\n",
        "Fashion MNIST classes:\n",
        "* T-shirt/top\n",
        "* Trouser\n",
        "* Pullover\n",
        "* Dress\n",
        "* Coat\n",
        "* Sandal\n",
        "* Shirt\n",
        "* Sneaker\n",
        "* Bag\n",
        "* Ankle boot\n",
        "\n",
        "Before doing anything, let's make sure we understand what we're working with. "
      ]
    },
    {
      "cell_type": "markdown",
      "metadata": {
        "id": "load_auto_data_set_text"
      },
      "source": [
        "### Load the data\n",
        "Tensorflow includes a growing [library of datasets](https://www.tensorflow.org/datasets/catalog/overview) and makes it easy to load them in numpy arrays."
      ]
    },
    {
      "cell_type": "code",
      "metadata": {
        "id": "load_auto_data_set_code"
      },
      "source": [
        "from keras.datasets import fashion_mnist\n",
        "\n",
        "# Load the Fashion MNIST dataset.\n",
        "(X_train, Y_train), (X_test, Y_test) = fashion_mnist.load_data()\n",
        "\n",
        "# Flatten Y_train and Y_test, so they become vectors of label values.\n",
        "# The label for X_train[0] is in Y_train[0].\n",
        "Y_train = Y_train.flatten()\n",
        "Y_test = Y_test.flatten()\n",
        "\n",
        "np.random.seed(0) # For reproducibility purposes\n",
        "\n",
        "# Shuffle the order of the training examples.\n",
        "indices = np.arange(X_train.shape[0])\n",
        "shuffled_indices = np.random.permutation(indices)\n",
        "\n",
        "X_train = X_train[shuffled_indices]\n",
        "Y_train = Y_train[shuffled_indices]"
      ],
      "execution_count": null,
      "outputs": []
    },
    {
      "cell_type": "markdown",
      "metadata": {
        "id": "Eg9mUz9zcIil"
      },
      "source": [
        "### Basic Analysis\n",
        "Notice that `X_train`, `Y_train`, `X_test`, and `Y_test` are all numpy arrays. Let's print their shapes to confirm."
      ]
    },
    {
      "cell_type": "code",
      "metadata": {
        "id": "H6jGmsYAdKEK"
      },
      "source": [
        "# Show the data shapes.\n",
        "print('X_train.shape:', X_train.shape)\n",
        "print('Y_train.shape:', Y_train.shape)\n",
        "print('X_test.shape:', X_test.shape)\n",
        "print('Y_test.shape:', Y_test.shape)"
      ],
      "execution_count": null,
      "outputs": []
    },
    {
      "cell_type": "markdown",
      "metadata": {
        "id": "fDeim44-dler"
      },
      "source": [
        "Notice that there are 60,000 instances in `X_train`. Each of these is a grayscale image represented by an 28-by-28 array of grayscale pixel values between 0 and 255 (the larger the value, the lighter the pixel). Before we continue, let's apply linear scaling to our pixel values, so they all fall between 0 and 1."
      ]
    },
    {
      "cell_type": "code",
      "metadata": {
        "id": "wXukkWBWdlGj"
      },
      "source": [
        "# Pixel values range from 0 to 255. To normalize the data, we just need to \n",
        "# divide all values by 255.\n",
        "X_train = X_train / 255\n",
        "X_test = X_test / 255"
      ],
      "execution_count": null,
      "outputs": []
    },
    {
      "cell_type": "markdown",
      "metadata": {
        "id": "oWsOQ3tbCOA7"
      },
      "source": [
        "In class, we talked about features - properties that characterize our data. Here, we treat **every pixel value as a separate feature**, so each input example has 28x28 (784) features!\n",
        "\n",
        "Fashion MNIST images have one of 10 possible labels (shown above). Since the labels are indices 0-9, let's keep a list of (string) names for convenience."
      ]
    },
    {
      "cell_type": "code",
      "metadata": {
        "id": "cZpFxxStzSrP"
      },
      "source": [
        "label_names = ['t-shirt', 'trouser', 'pullover', 'dress', 'coat',\n",
        "               'sandal', 'shirt', 'sneaker', 'bag', 'ankle boot']\n",
        "\n",
        "# Show the first 5 training labels.\n",
        "print('First 5 label values:', Y_train[0:5])\n",
        "print('Mapped to their names:', [label_names[i] for i in Y_train[0:5]])\n"
      ],
      "execution_count": null,
      "outputs": []
    },
    {
      "cell_type": "markdown",
      "metadata": {
        "id": "c5aXeK2VznCW"
      },
      "source": [
        "Next let's use the `imshow` function to look at the first few images in the training set."
      ]
    },
    {
      "cell_type": "code",
      "metadata": {
        "id": "7mfV9b4I7cMW"
      },
      "source": [
        "# Create a figure with subplots. This returns a list of object handles in axs\n",
        "# which we can use populate the plots.\n",
        "fig, axs = plt.subplots(nrows=1, ncols=5, figsize=(10,5))\n",
        "for i in range(5):\n",
        "  image = X_train[i]\n",
        "  label = Y_train[i]\n",
        "  label_name = label_names[label]\n",
        "  axs[i].imshow(image, cmap='gray')  # imshow renders a 2D grid\n",
        "  axs[i].set_title(label_name)\n",
        "  axs[i].axis('off')\n",
        "plt.show()"
      ],
      "execution_count": null,
      "outputs": []
    },
    {
      "cell_type": "markdown",
      "metadata": {
        "id": "aFx7Ts3b6N6d"
      },
      "source": [
        "#### Exercise 1\n",
        "\n",
        "Display the first 5 images for each class in a 10x5 grid. Feel free to use the code above to get started. Here's a [link](https://matplotlib.org/stable/api/_as_gen/matplotlib.pyplot.subplots.html) to matplotlib's documentation. "
      ]
    },
    {
      "cell_type": "code",
      "source": [
        "# Your code goes here\n",
        "fig, axs = plt.subplots(nrows=10, ncols=5, figsize=(10,10))\n",
        "for i in range(10):\n",
        "  j=0\n",
        "  for k in range(len(Y_train)):\n",
        "    if(i == Y_train[k]):\n",
        "      image = X_train[k]\n",
        "      label = Y_train[k]\n",
        "      label_name = label_names[label]\n",
        "      axs[i, j].imshow(image, cmap='gray')  # imshow renders a 2D grid\n",
        "      axs[i, j].set_title(label_name)\n",
        "      axs[i, j].axis('off')\n",
        "      j += 1\n",
        "      if(j == 5): break\n",
        "plt.show()"
      ],
      "metadata": {
        "id": "hhtmA1EMDx8j"
      },
      "execution_count": null,
      "outputs": []
    },
    {
      "cell_type": "markdown",
      "metadata": {
        "id": "qNvSx5tybqMR"
      },
      "source": [
        "## Problem Definition: Sneaker Classifier\n",
        "There are many things we can do with this dataset. Following our lectures, let's start with binary classification. We'll use the k-nearest neighbors (k-NN) algorithm described in class to build a sneaker classifier. Our positive examples ($y=1$) will be sneaker images (class 7) and our negative examples ($y=0$) will be all other images.\n",
        "\n",
        "The idea is that our k-NN model, given an image $x$, will produce $\\hat{y}$, the probability that $x$ is a sneaker."
      ]
    },
    {
      "cell_type": "markdown",
      "metadata": {
        "id": "E01QY9SRpwPE"
      },
      "source": [
        "### Instance Based Learning\n",
        "\n",
        "Instance-based learning is often termed lazy learning, as there is typically no “transformation” of training instances into more general\n",
        "representations\n",
        "\n",
        "Instead, the presented training data are simply stored and, when a new\n",
        "query instance is encountered, a set of similar, related instances is\n",
        "retrieved from memory and used to classify the new query instance\n",
        "\n",
        "Hence, instance-based learners never form an explicit general hypothesis\n",
        "regarding the target function. They simply compute the classification of\n",
        "each new query instance as needed"
      ]
    },
    {
      "cell_type": "markdown",
      "source": [
        "#### K-Nearest Neighbors\n",
        "\n",
        "The simplest, most used instance-based learning algorithm is the k-nearest neighbors algorithm. \n",
        "\n",
        "k-NN assumes that all instances are points in some n-dimensional space and defines neighbors in terms of distance (usually Euclidean in R-space), where k is the number of neighbors considered.\n",
        "\n",
        "Properties:\n",
        "1) All possible points within a sample's Voronoi cell are the nearest neighboring points for that sample\n",
        "2) For any sample, the nearest sample is determined by the closest Voronoi cell\n",
        "edge\n"
      ],
      "metadata": {
        "id": "487SVTAn9fHl"
      }
    },
    {
      "cell_type": "markdown",
      "source": [
        "##### Graphic Depiction\n",
        "\n",
        "![image.png](data:image/png;base64,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)"
      ],
      "metadata": {
        "id": "BSH-SjCL-neE"
      }
    },
    {
      "cell_type": "markdown",
      "source": [
        "Using the second property, the k-NN classification rule is to assign to\n",
        "a test sample the majority category label of its k nearest training\n",
        "samples\n",
        "In practice, k is usually chosen to be odd, so as to reduce the\n",
        "probability of ties\n",
        "The k = 1 rule is generally called the nearest-neighbor classification\n",
        "rule. "
      ],
      "metadata": {
        "id": "gkmUXxA9_nFR"
      }
    },
    {
      "cell_type": "markdown",
      "metadata": {
        "id": "DvcJJ_rUifF2"
      },
      "source": [
        "### Data Preprocessing\n",
        "Before we continue, we need to prepare the data for this binary classification task. We'll map sneaker image laebls to 1 (the positive class) and all other images to 0 (the negative class).\n",
        "\n",
        "Programming note: Numpy allows us to perform what is called [boolean array indexing](https://docs.scipy.org/doc/numpy/reference/arrays.indexing.html#boolean-array-indexing)\n",
        "This means that a numpy array $A$ can be indexed using a boolean array $B$\n",
        "as follows: $A[B]$.\n",
        "We'll take advantage of this type of indexing to prepare the labels for our binary classification task below."
      ]
    },
    {
      "cell_type": "code",
      "metadata": {
        "id": "3webN4USifuB"
      },
      "source": [
        "# Make copies of the original labels.\n",
        "Y_train_binary = np.copy(Y_train)\n",
        "Y_test_binary = np.copy(Y_test)\n",
        "\n",
        "# Update labels: 1 for sneaker images; 0 for the rest.\n",
        "# Note that a boolean array is created when Y_train_binary != 7 is evaluated.\n",
        "Y_train_binary[Y_train_binary != 7] = 0.0 \n",
        "Y_train_binary[Y_train_binary == 7] = 1.0\n",
        "Y_test_binary[Y_test_binary != 7] = 0.0\n",
        "Y_test_binary[Y_test_binary == 7] = 1.0\n",
        "# Cool, right?"
      ],
      "execution_count": null,
      "outputs": []
    },
    {
      "cell_type": "markdown",
      "metadata": {
        "id": "84idQ2_Mm8w-"
      },
      "source": [
        "#### Exercise 2 \n",
        "\n",
        "Let's briefly investigate some statistical differences between sneaker and non-sneaker images.\n",
        "\n",
        "1.   Find all sneaker images in `X_train` and compute the mean and standard deviation of the center pixel value across all **sneaker** images. The center pixel is located at position [14, 14].\n",
        "\n",
        "2.   Find all non-sneaker images in `X_train` and compute the mean and standard deviation of the center pixel values across all **non-sneaker** images. The center pixel is located at position [14, 14].\n",
        "\n",
        "3. Repeat 1 and 2 for the pixel located at positon [3, 14]."
      ]
    },
    {
      "cell_type": "code",
      "metadata": {
        "id": "FblS-OVmns4a"
      },
      "source": [
        "X_train_sneaker = X_train[Y_train==7]\n",
        "X_train_nonsneaker = X_train[Y_train!=7]\n",
        "sneaker_mean_14_14 = np.mean(X_train_sneaker[14, 14, 14])\n",
        "sneaker_std_14_14 = np.std(X_train_sneaker[:, 14, 14])\n",
        "nonsneaker_mean_14_14 = np.mean(X_train_nonsneaker[:, 14, 14])\n",
        "nonsneaker_std_14_14 = np.std(X_train_nonsneaker[:, 14, 14])\n",
        "print(\"Sneaker mean at 14, 14: \", sneaker_mean_14_14)\n",
        "print(\"Sneaker standard deviation at 14, 14: \", sneaker_std_14_14)\n",
        "print(\"Non-sneaker mean at 14, 14: \", nonsneaker_mean_14_14)\n",
        "print(\"Non-sneaker standard deviation at 14, 14: \", nonsneaker_std_14_14)\n",
        "\n",
        "sneaker_mean_3_14 = np.mean(X_train_sneaker[:, 3, 14])\n",
        "sneaker_std_3_14 = np.std(X_train_sneaker[:, 3, 14])\n",
        "nonsneaker_mean_3_14 = np.mean(X_train_nonsneaker[:, 3, 14])\n",
        "nonsneaker_std_3_14 = np.std(X_train_nonsneaker[:, 3, 14])\n",
        "print(\"Sneaker mean at 3, 14: \", sneaker_mean_3_14)\n",
        "print(\"Sneaker standard deviation at 3, 14: \", sneaker_std_3_14)\n",
        "print(\"Non-sneaker mean at 3, 14: \", nonsneaker_mean_3_14)\n",
        "print(\"Non-sneaker standard deviation at 3, 14: \", nonsneaker_std_3_14)\n"
      ],
      "execution_count": null,
      "outputs": []
    },
    {
      "cell_type": "markdown",
      "metadata": {
        "id": "TGgQ-ASYiHbK"
      },
      "source": [
        "### Baseline\n",
        "\n",
        "When dealing with classification problems, a simple, but useful baseline is to select the *majority* class (the most common label in the training set) and use it as the prediction for all inputs.\n",
        "\n",
        "Our training dataset consists of 6,000 sneaker examples (10%), and 54,000 non-sneaker images (90%), so our majority class baseline classifies everything as *non-sneaker*, and will have an accuracy of 90%. We will see if we can beat this baseline with k-NN."
      ]
    },
    {
      "cell_type": "code",
      "metadata": {
        "id": "ls30LfwsIZCv"
      },
      "source": [
        "print('Number of sneaker images in training set:', (Y_train_binary == 1).sum())\n",
        "print('Number of non-sneaker images in training set:', (Y_train_binary == 0).sum())"
      ],
      "execution_count": null,
      "outputs": []
    },
    {
      "cell_type": "markdown",
      "source": [
        "### k-NN Implementation\n",
        "\n",
        "Every image in our dataset is represenyed by an 28-by-28 array (2D). To make things easier, let's *flatten* X_train and X_test so each image is represented by an array (1D) of size 784 (28*28). "
      ],
      "metadata": {
        "id": "1YAcr85VGxoR"
      }
    },
    {
      "cell_type": "code",
      "source": [
        "X_train = X_train.reshape(X_train.shape[0],-1)\n",
        "X_test = X_test.reshape(X_test.shape[0],-1)\n",
        "print(X_train.shape)\n",
        "print(X_test.shape)\n"
      ],
      "metadata": {
        "id": "8pqmeu7HGwxd"
      },
      "execution_count": null,
      "outputs": []
    },
    {
      "cell_type": "markdown",
      "source": [
        "#### Exercise 3 \n",
        "\n",
        "Implement the **weighted** version of knn using the following algorithm:\n",
        "\n",
        "\n",
        "\n"
      ],
      "metadata": {
        "id": "EvO70EZWIqRv"
      }
    },
    {
      "cell_type": "markdown",
      "source": [
        "##### k-NN algorithm (binary classification)\n",
        "\n",
        "\n",
        "```\n",
        "Input: X_train, Y_train, X_test, k (number of neighbors)\n",
        "Output: pred - the predicted probability for each example in x_test to be a member of the positive class\n",
        "\n",
        "for every example x_i in x_test:\n",
        "    find the distance from x_i to every instance in x_train\n",
        "    find the k examples in x_train with smallest distance to x_i (the k-nearest neighbors)\n",
        "    pred[i] = number of positive neighbors / k (unweighted)\n",
        "    or\n",
        "    pred[i] = w_neighbor_1 * y_neighbor_1 + ... + w_neighbor_k * y_neighbor_k (weighted)\n",
        "    where w_neighbor_1 + ... + w_neighbor_k = 1 and the weight assigned to a\n",
        "    neighbor is inversely proportional to its distance to x_i \n",
        "\n",
        "```\n"
      ],
      "metadata": {
        "id": "VJrsee2tRp_I"
      }
    },
    {
      "cell_type": "code",
      "source": [
        "# Feel free to add as many helper functions as you'd like\n",
        "\n",
        "def knn(X_train, Y_train_binary, Y_test, k):\n",
        "  pred = np.zeros(X_test.shape[0]) # Feel free to change / remove this line\n",
        "  \n",
        "  # Your code here\n",
        "\n",
        "  return pred"
      ],
      "metadata": {
        "id": "w6z6az-nKfhe"
      },
      "execution_count": null,
      "outputs": []
    },
    {
      "cell_type": "markdown",
      "metadata": {
        "id": "e9hk2vg9A1dm"
      },
      "source": [
        "### Evaluation\n",
        "To turn probabilities into binary predictions, we need to choose a classification threshold. A probability greater than or equal to threshold indicates class *sneaker*, while a value less than the threshold indicates class *non-sneaker*. Once we have binary predictions, we can evaluate performance with some different metrics.\n",
        "\n",
        "A **true positive** is an outcome where the model correctly predicts the positive class. Similarly, a **true negative** is an outcome where the model correctly predicts the negative class.\n",
        "\n",
        "A **false positive** is an outcome where the model incorrectly predicts the positive class. And a **false negative** is an outcome where the model incorrectly predicts the negative class.\n",
        "\n",
        "Using these, we can construct a **confusion matrix**, a table that summarizes performance using these 4 result categories.\n",
        "\n",
        "|                     | Sneaker (Actual)    | Non-Sneaker (Actual) |\n",
        "|---------------------|-----------------|------------------|\n",
        "| **Sneaker (Predicted)**     | Number of True Positives  | Number of False Positives  |\n",
        "| **Non-Sneaker (Predicted)** | Number of False Negatives | Number of True Negatives   |\n"
      ]
    },
    {
      "cell_type": "markdown",
      "metadata": {
        "id": "jc9RWUR2I_i_"
      },
      "source": [
        "**Accuracy** is the fraction of examples our model classified correctly (correct / total):\n",
        "\n",
        "\\begin{equation}\n",
        "Accuracy = \\frac{TP + TN}{TP + TN + FP + FN}\n",
        "\\end{equation}\n",
        "\n",
        "**Precision** is the proportion of positive predictions that were actually correct:\n",
        "\n",
        "\\begin{equation}\n",
        "Precision = \\frac{TP}{TP + FP}\n",
        "\\end{equation}\n",
        "\n",
        "**Recall** is the proportion of actual positives that were predicted correctly:\n",
        "\n",
        "\\begin{equation}\n",
        "Recall = \\frac{TP}{TP + FN}\n",
        "\\end{equation}\n",
        "\n",
        "Changing the threshold will change precision and recall, typically with a trade-off: improving precision reduces recall (and vice-versa)."
      ]
    },
    {
      "cell_type": "markdown",
      "metadata": {
        "id": "Ck0yxzxx9Qww"
      },
      "source": [
        "#### Exercise 4\n",
        "\n",
        "\n",
        "Test your implementation of knn using k=5. Then, do the following for each of these classification thresholds [0.1, 0.3, 0.5, 0.7, 0.9] using `pred` (predicted probabilities) and `Y_test_binary` (actual labels):\n",
        "\n",
        "1.   Compute and print counts of [tp, tn, fp, fn]\n",
        "2.   Compute and print the accuracy, precision, and recall.\n",
        "\n",
        "**You are not allowed to use other libraries that might do this for you. You may only use numpy**"
      ]
    },
    {
      "cell_type": "code",
      "metadata": {
        "id": "Ppmrnh0-jY7-"
      },
      "source": [
        "# Your code goes here"
      ],
      "execution_count": null,
      "outputs": []
    },
    {
      "cell_type": "markdown",
      "metadata": {
        "id": "epIqYiQhQpJC"
      },
      "source": [
        "### Analyze Classification Mistakes\n",
        "\n",
        "Our predictions are not perfect. Regardless of the classification threshold we choose, it misclassifies some images. Let's take a look at some of the images that our model misclassified."
      ]
    },
    {
      "cell_type": "markdown",
      "metadata": {
        "id": "DLK2zFv2SWAy"
      },
      "source": [
        "#### Exercise 5\n",
        "\n",
        "1.   Display 5 images that were erroneously classified as sneaker (threshold = 0.5).\n",
        "2.   Display 5 images that were erroneously classified as non-sneaker (threshold = 0.5).\n",
        "\n",
        "You may want to reshape X_test so you can display the images `X_test = X_test.reshape(X_test.shape[0],28,28)`\n"
      ]
    },
    {
      "cell_type": "code",
      "metadata": {
        "id": "xUZfCG1ylVtp"
      },
      "source": [
        "# Your code goes here"
      ],
      "execution_count": null,
      "outputs": []
    },
    {
      "cell_type": "markdown",
      "source": [
        "## Multiclass Classification\n",
        "\n",
        "We are now ready for the full multi-class case. Instead of using `Y_train_binary` and `Y_test_binary`, we'll use the original labels `Y_train` and `Y_test`. \n"
      ],
      "metadata": {
        "id": "Io_cuRQLQOlW"
      }
    },
    {
      "cell_type": "markdown",
      "metadata": {
        "id": "j2OdfC1Tg41L"
      },
      "source": [
        "\n",
        "#### Exercise 6 \n",
        "\n",
        "Re-implement knn using the following algorithm:\n",
        "\n",
        "```\n",
        "Input: x_train, y_train, x_test, k\n",
        "Output: pred - the predicted class for every example in x_test\n",
        "\n",
        "for every example x_i in x_test:\n",
        "    find the distance from x_i to every instance in x_train\n",
        "    find the k examples in x_train with smallest distance to x_i (the k-nearest neighbors)\n",
        "    pred[i] = most common value of y in the selected k neighbors\n",
        "```\n",
        "\n",
        "Notice how `pred` contains actual class predictions instead of probabilities. \n"
      ]
    },
    {
      "cell_type": "code",
      "source": [
        "# Feel free to add as many helper functions as you'd like\n",
        "def knn_multiclass(X_train, Y_train, Y_test, k):\n",
        "  pred = np.zeros(X_test.shape[0]) # Feel free to change / remove this line\n",
        "  \n",
        "  # Your code here\n",
        "\n",
        "  return pred"
      ],
      "metadata": {
        "id": "cochiep7OOsy"
      },
      "execution_count": null,
      "outputs": []
    },
    {
      "cell_type": "markdown",
      "source": [
        "\n",
        "#### Exercise 7\n",
        "\n",
        "Test your implementation of knn_multiclass using at least 5 different values for k. For each of those values, compute the accuracy of your model and display the confusion matrix (feel free to use sklearn). "
      ],
      "metadata": {
        "id": "KBjwh6WLQmI-"
      }
    },
    {
      "cell_type": "markdown",
      "source": [
        "\n",
        "```\n",
        "Accuracy = number of instances where Y_test[i] == pred[i] divided by total number of test instances.\n",
        "```"
      ],
      "metadata": {
        "id": "uH-ztYRQOvyG"
      }
    },
    {
      "cell_type": "code",
      "source": [
        "# Your code goes here"
      ],
      "metadata": {
        "id": "9RQDVnguPVmB"
      },
      "execution_count": null,
      "outputs": []
    },
    {
      "cell_type": "markdown",
      "source": [
        "## Submission Instructions\n",
        "\n",
        "1. File > Download .ipynb\n",
        "2. Go to Blackboard, find the submission page, and upload the .ipynb file you just downloaded."
      ],
      "metadata": {
        "id": "HAWUwNgkPcMX"
      }
    },
    {
      "cell_type": "code",
      "source": [
        "89.92/3\n"
      ],
      "metadata": {
        "id": "dKcWZvSDEzIN"
      },
      "execution_count": null,
      "outputs": []
    },
    {
      "cell_type": "code",
      "source": [
        "7.49*2+ 4.99 + 13.96"
      ],
      "metadata": {
        "id": "oxFpxxcjaHWg"
      },
      "execution_count": null,
      "outputs": []
    },
    {
      "cell_type": "code",
      "source": [
        "4.99+ 24.49+10.99"
      ],
      "metadata": {
        "id": "Se4NGF9JbFkW"
      },
      "execution_count": null,
      "outputs": []
    },
    {
      "cell_type": "code",
      "source": [
        "(20.94/3)*2"
      ],
      "metadata": {
        "id": "IX5keeTBaYSY"
      },
      "execution_count": null,
      "outputs": []
    }
  ]
}