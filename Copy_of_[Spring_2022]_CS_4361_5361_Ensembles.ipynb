{
  "cells": [
    {
      "cell_type": "markdown",
      "metadata": {
        "id": "view-in-github",
        "colab_type": "text"
      },
      "source": [
        "<a href=\"https://colab.research.google.com/github/ucchol/Machine-Learning-CS--5361/blob/main/Copy_of_%5BSpring_2022%5D_CS_4361_5361_Ensembles.ipynb\" target=\"_parent\"><img src=\"https://colab.research.google.com/assets/colab-badge.svg\" alt=\"Open In Colab\"/></a>"
      ]
    },
    {
      "cell_type": "markdown",
      "metadata": {
        "id": "yTCyCcbWyHl8"
      },
      "source": [
        "# [Spring 2022] CS 4361 / 5361 - Ensembles"
      ]
    },
    {
      "cell_type": "markdown",
      "metadata": {
        "id": "YKZcy51UyUpS"
      },
      "source": [
        "## **Before you start**\n",
        "\n",
        "Make a copy of this Colab by clicking on File > Save a Copy in Drive\n",
        "\n",
        "After making a copy, add your student id, last name, and first name to the title.\n",
        "\n",
        "Credit: This notebook was originally created by Dr. Olac Fuentes. It was adapted by Dr. Diego Aguirre on 02/28/2022\n"
      ]
    },
    {
      "cell_type": "code",
      "execution_count": null,
      "metadata": {
        "id": "Ht3quTppya6O"
      },
      "outputs": [],
      "source": [
        "student_name = \"Asif Rahman\"\n",
        "student_id = \"80741895\""
      ]
    },
    {
      "cell_type": "markdown",
      "metadata": {
        "id": "m6CHEZVYtYNH"
      },
      "source": [
        "In this assignment, we will be predicting the running times of GPU operations under various parameter settings using ensembles of trees.\n",
        "\n",
        "\n",
        "Let's load the libraries we will be using."
      ]
    },
    {
      "cell_type": "code",
      "execution_count": null,
      "metadata": {
        "id": "8OklO36Gtay2"
      },
      "outputs": [],
      "source": [
        "import numpy as np\n",
        "import matplotlib.pyplot as plt\n",
        "import pandas as pd\n",
        "import time\n",
        "from sklearn.metrics import accuracy_score, confusion_matrix,mean_squared_error,mean_absolute_error\n",
        "from sklearn.neighbors import KNeighborsRegressor\n",
        "from sklearn.tree import DecisionTreeRegressor\n",
        "from sklearn.ensemble import RandomForestRegressor\n",
        "from sklearn.model_selection import train_test_split\n",
        "from sklearn.preprocessing import StandardScaler\n",
        "from sklearn import tree\n",
        "from google.colab import files"
      ]
    },
    {
      "cell_type": "markdown",
      "metadata": {
        "id": "5DHrlQ91tkx4"
      },
      "source": [
        "Let's upload the dataset we will be working with (you'll find the file on Blackboard)."
      ]
    },
    {
      "cell_type": "code",
      "execution_count": null,
      "metadata": {
        "colab": {
          "base_uri": "https://localhost:8080/",
          "height": 73
        },
        "id": "A8g-vNjLti5v",
        "outputId": "423589e0-2019-494a-b827-38d7b93a851b"
      },
      "outputs": [
        {
          "output_type": "display_data",
          "data": {
            "text/plain": [
              "<IPython.core.display.HTML object>"
            ],
            "text/html": [
              "\n",
              "     <input type=\"file\" id=\"files-db6a592f-e368-4b78-b42d-69440286e544\" name=\"files[]\" multiple disabled\n",
              "        style=\"border:none\" />\n",
              "     <output id=\"result-db6a592f-e368-4b78-b42d-69440286e544\">\n",
              "      Upload widget is only available when the cell has been executed in the\n",
              "      current browser session. Please rerun this cell to enable.\n",
              "      </output>\n",
              "      <script>// Copyright 2017 Google LLC\n",
              "//\n",
              "// Licensed under the Apache License, Version 2.0 (the \"License\");\n",
              "// you may not use this file except in compliance with the License.\n",
              "// You may obtain a copy of the License at\n",
              "//\n",
              "//      http://www.apache.org/licenses/LICENSE-2.0\n",
              "//\n",
              "// Unless required by applicable law or agreed to in writing, software\n",
              "// distributed under the License is distributed on an \"AS IS\" BASIS,\n",
              "// WITHOUT WARRANTIES OR CONDITIONS OF ANY KIND, either express or implied.\n",
              "// See the License for the specific language governing permissions and\n",
              "// limitations under the License.\n",
              "\n",
              "/**\n",
              " * @fileoverview Helpers for google.colab Python module.\n",
              " */\n",
              "(function(scope) {\n",
              "function span(text, styleAttributes = {}) {\n",
              "  const element = document.createElement('span');\n",
              "  element.textContent = text;\n",
              "  for (const key of Object.keys(styleAttributes)) {\n",
              "    element.style[key] = styleAttributes[key];\n",
              "  }\n",
              "  return element;\n",
              "}\n",
              "\n",
              "// Max number of bytes which will be uploaded at a time.\n",
              "const MAX_PAYLOAD_SIZE = 100 * 1024;\n",
              "\n",
              "function _uploadFiles(inputId, outputId) {\n",
              "  const steps = uploadFilesStep(inputId, outputId);\n",
              "  const outputElement = document.getElementById(outputId);\n",
              "  // Cache steps on the outputElement to make it available for the next call\n",
              "  // to uploadFilesContinue from Python.\n",
              "  outputElement.steps = steps;\n",
              "\n",
              "  return _uploadFilesContinue(outputId);\n",
              "}\n",
              "\n",
              "// This is roughly an async generator (not supported in the browser yet),\n",
              "// where there are multiple asynchronous steps and the Python side is going\n",
              "// to poll for completion of each step.\n",
              "// This uses a Promise to block the python side on completion of each step,\n",
              "// then passes the result of the previous step as the input to the next step.\n",
              "function _uploadFilesContinue(outputId) {\n",
              "  const outputElement = document.getElementById(outputId);\n",
              "  const steps = outputElement.steps;\n",
              "\n",
              "  const next = steps.next(outputElement.lastPromiseValue);\n",
              "  return Promise.resolve(next.value.promise).then((value) => {\n",
              "    // Cache the last promise value to make it available to the next\n",
              "    // step of the generator.\n",
              "    outputElement.lastPromiseValue = value;\n",
              "    return next.value.response;\n",
              "  });\n",
              "}\n",
              "\n",
              "/**\n",
              " * Generator function which is called between each async step of the upload\n",
              " * process.\n",
              " * @param {string} inputId Element ID of the input file picker element.\n",
              " * @param {string} outputId Element ID of the output display.\n",
              " * @return {!Iterable<!Object>} Iterable of next steps.\n",
              " */\n",
              "function* uploadFilesStep(inputId, outputId) {\n",
              "  const inputElement = document.getElementById(inputId);\n",
              "  inputElement.disabled = false;\n",
              "\n",
              "  const outputElement = document.getElementById(outputId);\n",
              "  outputElement.innerHTML = '';\n",
              "\n",
              "  const pickedPromise = new Promise((resolve) => {\n",
              "    inputElement.addEventListener('change', (e) => {\n",
              "      resolve(e.target.files);\n",
              "    });\n",
              "  });\n",
              "\n",
              "  const cancel = document.createElement('button');\n",
              "  inputElement.parentElement.appendChild(cancel);\n",
              "  cancel.textContent = 'Cancel upload';\n",
              "  const cancelPromise = new Promise((resolve) => {\n",
              "    cancel.onclick = () => {\n",
              "      resolve(null);\n",
              "    };\n",
              "  });\n",
              "\n",
              "  // Wait for the user to pick the files.\n",
              "  const files = yield {\n",
              "    promise: Promise.race([pickedPromise, cancelPromise]),\n",
              "    response: {\n",
              "      action: 'starting',\n",
              "    }\n",
              "  };\n",
              "\n",
              "  cancel.remove();\n",
              "\n",
              "  // Disable the input element since further picks are not allowed.\n",
              "  inputElement.disabled = true;\n",
              "\n",
              "  if (!files) {\n",
              "    return {\n",
              "      response: {\n",
              "        action: 'complete',\n",
              "      }\n",
              "    };\n",
              "  }\n",
              "\n",
              "  for (const file of files) {\n",
              "    const li = document.createElement('li');\n",
              "    li.append(span(file.name, {fontWeight: 'bold'}));\n",
              "    li.append(span(\n",
              "        `(${file.type || 'n/a'}) - ${file.size} bytes, ` +\n",
              "        `last modified: ${\n",
              "            file.lastModifiedDate ? file.lastModifiedDate.toLocaleDateString() :\n",
              "                                    'n/a'} - `));\n",
              "    const percent = span('0% done');\n",
              "    li.appendChild(percent);\n",
              "\n",
              "    outputElement.appendChild(li);\n",
              "\n",
              "    const fileDataPromise = new Promise((resolve) => {\n",
              "      const reader = new FileReader();\n",
              "      reader.onload = (e) => {\n",
              "        resolve(e.target.result);\n",
              "      };\n",
              "      reader.readAsArrayBuffer(file);\n",
              "    });\n",
              "    // Wait for the data to be ready.\n",
              "    let fileData = yield {\n",
              "      promise: fileDataPromise,\n",
              "      response: {\n",
              "        action: 'continue',\n",
              "      }\n",
              "    };\n",
              "\n",
              "    // Use a chunked sending to avoid message size limits. See b/62115660.\n",
              "    let position = 0;\n",
              "    do {\n",
              "      const length = Math.min(fileData.byteLength - position, MAX_PAYLOAD_SIZE);\n",
              "      const chunk = new Uint8Array(fileData, position, length);\n",
              "      position += length;\n",
              "\n",
              "      const base64 = btoa(String.fromCharCode.apply(null, chunk));\n",
              "      yield {\n",
              "        response: {\n",
              "          action: 'append',\n",
              "          file: file.name,\n",
              "          data: base64,\n",
              "        },\n",
              "      };\n",
              "\n",
              "      let percentDone = fileData.byteLength === 0 ?\n",
              "          100 :\n",
              "          Math.round((position / fileData.byteLength) * 100);\n",
              "      percent.textContent = `${percentDone}% done`;\n",
              "\n",
              "    } while (position < fileData.byteLength);\n",
              "  }\n",
              "\n",
              "  // All done.\n",
              "  yield {\n",
              "    response: {\n",
              "      action: 'complete',\n",
              "    }\n",
              "  };\n",
              "}\n",
              "\n",
              "scope.google = scope.google || {};\n",
              "scope.google.colab = scope.google.colab || {};\n",
              "scope.google.colab._files = {\n",
              "  _uploadFiles,\n",
              "  _uploadFilesContinue,\n",
              "};\n",
              "})(self);\n",
              "</script> "
            ]
          },
          "metadata": {}
        },
        {
          "output_type": "stream",
          "name": "stdout",
          "text": [
            "Saving gpu_running_time.csv to gpu_running_time.csv\n"
          ]
        }
      ],
      "source": [
        "from google.colab import files\n",
        "import os\n",
        "\n",
        "if not os.path.isfile(\"gpu_running_time.csv\"):\n",
        "  files.upload() # If this doesn't work, try using Google Chrome"
      ]
    },
    {
      "cell_type": "code",
      "execution_count": null,
      "metadata": {
        "id": "aubrkepItxCL",
        "colab": {
          "base_uri": "https://localhost:8080/",
          "height": 423
        },
        "outputId": "8238c8d7-4db0-4c40-d312-72b52ba30b2a"
      },
      "outputs": [
        {
          "output_type": "execute_result",
          "data": {
            "text/plain": [
              "        MWG  NWG  KWG  MDIMC  NDIMC  MDIMA  NDIMB  KWI  VWM  VWN  STRM  STRN  \\\n",
              "0       128  128   16     16     32     32     32    8    2    4     1     0   \n",
              "1       128  128   16     16     32     32     32    8    2    4     1     1   \n",
              "2       128  128   16     16     32     32     32    2    2    2     1     1   \n",
              "3       128  128   16     16     32     32     32    8    2    2     1     1   \n",
              "4       128   64   16     16     16     16     32    2    2    2     1     1   \n",
              "...     ...  ...  ...    ...    ...    ...    ...  ...  ...  ...   ...   ...   \n",
              "241595  128  128   32      8      8     16     32    8    2    2     0     0   \n",
              "241596  128  128   32      8      8     32      8    8    2    2     0     0   \n",
              "241597  128  128   32      8      8     16     16    8    2    2     0     0   \n",
              "241598  128  128   32      8      8     32     16    8    2    2     0     0   \n",
              "241599  128  128   32      8      8     16      8    8    2    2     0     0   \n",
              "\n",
              "        SA  SB  Run1 (ms)  Run2 (ms)  Run3 (ms)  Run4 (ms)  \n",
              "0        1   1      13.29      13.25      13.36      13.37  \n",
              "1        1   1      13.29      13.36      13.38      13.65  \n",
              "2        1   1      13.78      13.76      13.73      13.69  \n",
              "3        1   1      14.34      14.44      14.43      14.58  \n",
              "4        1   1      14.61      14.69      14.80      14.78  \n",
              "...     ..  ..        ...        ...        ...        ...  \n",
              "241595   1   1    3322.83    3313.44    3359.22    3342.30  \n",
              "241596   1   1    3324.15    3324.11    3332.74    3300.80  \n",
              "241597   1   1    3325.87    3340.98    3333.41    3341.08  \n",
              "241598   1   1    3333.92    3335.08    3354.68    3317.04  \n",
              "241599   1   1    3339.63    3344.72    3319.97    3361.71  \n",
              "\n",
              "[241600 rows x 18 columns]"
            ],
            "text/html": [
              "\n",
              "  <div id=\"df-ba0ec30b-67d8-400a-9c74-9660e0b971d4\">\n",
              "    <div class=\"colab-df-container\">\n",
              "      <div>\n",
              "<style scoped>\n",
              "    .dataframe tbody tr th:only-of-type {\n",
              "        vertical-align: middle;\n",
              "    }\n",
              "\n",
              "    .dataframe tbody tr th {\n",
              "        vertical-align: top;\n",
              "    }\n",
              "\n",
              "    .dataframe thead th {\n",
              "        text-align: right;\n",
              "    }\n",
              "</style>\n",
              "<table border=\"1\" class=\"dataframe\">\n",
              "  <thead>\n",
              "    <tr style=\"text-align: right;\">\n",
              "      <th></th>\n",
              "      <th>MWG</th>\n",
              "      <th>NWG</th>\n",
              "      <th>KWG</th>\n",
              "      <th>MDIMC</th>\n",
              "      <th>NDIMC</th>\n",
              "      <th>MDIMA</th>\n",
              "      <th>NDIMB</th>\n",
              "      <th>KWI</th>\n",
              "      <th>VWM</th>\n",
              "      <th>VWN</th>\n",
              "      <th>STRM</th>\n",
              "      <th>STRN</th>\n",
              "      <th>SA</th>\n",
              "      <th>SB</th>\n",
              "      <th>Run1 (ms)</th>\n",
              "      <th>Run2 (ms)</th>\n",
              "      <th>Run3 (ms)</th>\n",
              "      <th>Run4 (ms)</th>\n",
              "    </tr>\n",
              "  </thead>\n",
              "  <tbody>\n",
              "    <tr>\n",
              "      <th>0</th>\n",
              "      <td>128</td>\n",
              "      <td>128</td>\n",
              "      <td>16</td>\n",
              "      <td>16</td>\n",
              "      <td>32</td>\n",
              "      <td>32</td>\n",
              "      <td>32</td>\n",
              "      <td>8</td>\n",
              "      <td>2</td>\n",
              "      <td>4</td>\n",
              "      <td>1</td>\n",
              "      <td>0</td>\n",
              "      <td>1</td>\n",
              "      <td>1</td>\n",
              "      <td>13.29</td>\n",
              "      <td>13.25</td>\n",
              "      <td>13.36</td>\n",
              "      <td>13.37</td>\n",
              "    </tr>\n",
              "    <tr>\n",
              "      <th>1</th>\n",
              "      <td>128</td>\n",
              "      <td>128</td>\n",
              "      <td>16</td>\n",
              "      <td>16</td>\n",
              "      <td>32</td>\n",
              "      <td>32</td>\n",
              "      <td>32</td>\n",
              "      <td>8</td>\n",
              "      <td>2</td>\n",
              "      <td>4</td>\n",
              "      <td>1</td>\n",
              "      <td>1</td>\n",
              "      <td>1</td>\n",
              "      <td>1</td>\n",
              "      <td>13.29</td>\n",
              "      <td>13.36</td>\n",
              "      <td>13.38</td>\n",
              "      <td>13.65</td>\n",
              "    </tr>\n",
              "    <tr>\n",
              "      <th>2</th>\n",
              "      <td>128</td>\n",
              "      <td>128</td>\n",
              "      <td>16</td>\n",
              "      <td>16</td>\n",
              "      <td>32</td>\n",
              "      <td>32</td>\n",
              "      <td>32</td>\n",
              "      <td>2</td>\n",
              "      <td>2</td>\n",
              "      <td>2</td>\n",
              "      <td>1</td>\n",
              "      <td>1</td>\n",
              "      <td>1</td>\n",
              "      <td>1</td>\n",
              "      <td>13.78</td>\n",
              "      <td>13.76</td>\n",
              "      <td>13.73</td>\n",
              "      <td>13.69</td>\n",
              "    </tr>\n",
              "    <tr>\n",
              "      <th>3</th>\n",
              "      <td>128</td>\n",
              "      <td>128</td>\n",
              "      <td>16</td>\n",
              "      <td>16</td>\n",
              "      <td>32</td>\n",
              "      <td>32</td>\n",
              "      <td>32</td>\n",
              "      <td>8</td>\n",
              "      <td>2</td>\n",
              "      <td>2</td>\n",
              "      <td>1</td>\n",
              "      <td>1</td>\n",
              "      <td>1</td>\n",
              "      <td>1</td>\n",
              "      <td>14.34</td>\n",
              "      <td>14.44</td>\n",
              "      <td>14.43</td>\n",
              "      <td>14.58</td>\n",
              "    </tr>\n",
              "    <tr>\n",
              "      <th>4</th>\n",
              "      <td>128</td>\n",
              "      <td>64</td>\n",
              "      <td>16</td>\n",
              "      <td>16</td>\n",
              "      <td>16</td>\n",
              "      <td>16</td>\n",
              "      <td>32</td>\n",
              "      <td>2</td>\n",
              "      <td>2</td>\n",
              "      <td>2</td>\n",
              "      <td>1</td>\n",
              "      <td>1</td>\n",
              "      <td>1</td>\n",
              "      <td>1</td>\n",
              "      <td>14.61</td>\n",
              "      <td>14.69</td>\n",
              "      <td>14.80</td>\n",
              "      <td>14.78</td>\n",
              "    </tr>\n",
              "    <tr>\n",
              "      <th>...</th>\n",
              "      <td>...</td>\n",
              "      <td>...</td>\n",
              "      <td>...</td>\n",
              "      <td>...</td>\n",
              "      <td>...</td>\n",
              "      <td>...</td>\n",
              "      <td>...</td>\n",
              "      <td>...</td>\n",
              "      <td>...</td>\n",
              "      <td>...</td>\n",
              "      <td>...</td>\n",
              "      <td>...</td>\n",
              "      <td>...</td>\n",
              "      <td>...</td>\n",
              "      <td>...</td>\n",
              "      <td>...</td>\n",
              "      <td>...</td>\n",
              "      <td>...</td>\n",
              "    </tr>\n",
              "    <tr>\n",
              "      <th>241595</th>\n",
              "      <td>128</td>\n",
              "      <td>128</td>\n",
              "      <td>32</td>\n",
              "      <td>8</td>\n",
              "      <td>8</td>\n",
              "      <td>16</td>\n",
              "      <td>32</td>\n",
              "      <td>8</td>\n",
              "      <td>2</td>\n",
              "      <td>2</td>\n",
              "      <td>0</td>\n",
              "      <td>0</td>\n",
              "      <td>1</td>\n",
              "      <td>1</td>\n",
              "      <td>3322.83</td>\n",
              "      <td>3313.44</td>\n",
              "      <td>3359.22</td>\n",
              "      <td>3342.30</td>\n",
              "    </tr>\n",
              "    <tr>\n",
              "      <th>241596</th>\n",
              "      <td>128</td>\n",
              "      <td>128</td>\n",
              "      <td>32</td>\n",
              "      <td>8</td>\n",
              "      <td>8</td>\n",
              "      <td>32</td>\n",
              "      <td>8</td>\n",
              "      <td>8</td>\n",
              "      <td>2</td>\n",
              "      <td>2</td>\n",
              "      <td>0</td>\n",
              "      <td>0</td>\n",
              "      <td>1</td>\n",
              "      <td>1</td>\n",
              "      <td>3324.15</td>\n",
              "      <td>3324.11</td>\n",
              "      <td>3332.74</td>\n",
              "      <td>3300.80</td>\n",
              "    </tr>\n",
              "    <tr>\n",
              "      <th>241597</th>\n",
              "      <td>128</td>\n",
              "      <td>128</td>\n",
              "      <td>32</td>\n",
              "      <td>8</td>\n",
              "      <td>8</td>\n",
              "      <td>16</td>\n",
              "      <td>16</td>\n",
              "      <td>8</td>\n",
              "      <td>2</td>\n",
              "      <td>2</td>\n",
              "      <td>0</td>\n",
              "      <td>0</td>\n",
              "      <td>1</td>\n",
              "      <td>1</td>\n",
              "      <td>3325.87</td>\n",
              "      <td>3340.98</td>\n",
              "      <td>3333.41</td>\n",
              "      <td>3341.08</td>\n",
              "    </tr>\n",
              "    <tr>\n",
              "      <th>241598</th>\n",
              "      <td>128</td>\n",
              "      <td>128</td>\n",
              "      <td>32</td>\n",
              "      <td>8</td>\n",
              "      <td>8</td>\n",
              "      <td>32</td>\n",
              "      <td>16</td>\n",
              "      <td>8</td>\n",
              "      <td>2</td>\n",
              "      <td>2</td>\n",
              "      <td>0</td>\n",
              "      <td>0</td>\n",
              "      <td>1</td>\n",
              "      <td>1</td>\n",
              "      <td>3333.92</td>\n",
              "      <td>3335.08</td>\n",
              "      <td>3354.68</td>\n",
              "      <td>3317.04</td>\n",
              "    </tr>\n",
              "    <tr>\n",
              "      <th>241599</th>\n",
              "      <td>128</td>\n",
              "      <td>128</td>\n",
              "      <td>32</td>\n",
              "      <td>8</td>\n",
              "      <td>8</td>\n",
              "      <td>16</td>\n",
              "      <td>8</td>\n",
              "      <td>8</td>\n",
              "      <td>2</td>\n",
              "      <td>2</td>\n",
              "      <td>0</td>\n",
              "      <td>0</td>\n",
              "      <td>1</td>\n",
              "      <td>1</td>\n",
              "      <td>3339.63</td>\n",
              "      <td>3344.72</td>\n",
              "      <td>3319.97</td>\n",
              "      <td>3361.71</td>\n",
              "    </tr>\n",
              "  </tbody>\n",
              "</table>\n",
              "<p>241600 rows × 18 columns</p>\n",
              "</div>\n",
              "      <button class=\"colab-df-convert\" onclick=\"convertToInteractive('df-ba0ec30b-67d8-400a-9c74-9660e0b971d4')\"\n",
              "              title=\"Convert this dataframe to an interactive table.\"\n",
              "              style=\"display:none;\">\n",
              "        \n",
              "  <svg xmlns=\"http://www.w3.org/2000/svg\" height=\"24px\"viewBox=\"0 0 24 24\"\n",
              "       width=\"24px\">\n",
              "    <path d=\"M0 0h24v24H0V0z\" fill=\"none\"/>\n",
              "    <path d=\"M18.56 5.44l.94 2.06.94-2.06 2.06-.94-2.06-.94-.94-2.06-.94 2.06-2.06.94zm-11 1L8.5 8.5l.94-2.06 2.06-.94-2.06-.94L8.5 2.5l-.94 2.06-2.06.94zm10 10l.94 2.06.94-2.06 2.06-.94-2.06-.94-.94-2.06-.94 2.06-2.06.94z\"/><path d=\"M17.41 7.96l-1.37-1.37c-.4-.4-.92-.59-1.43-.59-.52 0-1.04.2-1.43.59L10.3 9.45l-7.72 7.72c-.78.78-.78 2.05 0 2.83L4 21.41c.39.39.9.59 1.41.59.51 0 1.02-.2 1.41-.59l7.78-7.78 2.81-2.81c.8-.78.8-2.07 0-2.86zM5.41 20L4 18.59l7.72-7.72 1.47 1.35L5.41 20z\"/>\n",
              "  </svg>\n",
              "      </button>\n",
              "      \n",
              "  <style>\n",
              "    .colab-df-container {\n",
              "      display:flex;\n",
              "      flex-wrap:wrap;\n",
              "      gap: 12px;\n",
              "    }\n",
              "\n",
              "    .colab-df-convert {\n",
              "      background-color: #E8F0FE;\n",
              "      border: none;\n",
              "      border-radius: 50%;\n",
              "      cursor: pointer;\n",
              "      display: none;\n",
              "      fill: #1967D2;\n",
              "      height: 32px;\n",
              "      padding: 0 0 0 0;\n",
              "      width: 32px;\n",
              "    }\n",
              "\n",
              "    .colab-df-convert:hover {\n",
              "      background-color: #E2EBFA;\n",
              "      box-shadow: 0px 1px 2px rgba(60, 64, 67, 0.3), 0px 1px 3px 1px rgba(60, 64, 67, 0.15);\n",
              "      fill: #174EA6;\n",
              "    }\n",
              "\n",
              "    [theme=dark] .colab-df-convert {\n",
              "      background-color: #3B4455;\n",
              "      fill: #D2E3FC;\n",
              "    }\n",
              "\n",
              "    [theme=dark] .colab-df-convert:hover {\n",
              "      background-color: #434B5C;\n",
              "      box-shadow: 0px 1px 3px 1px rgba(0, 0, 0, 0.15);\n",
              "      filter: drop-shadow(0px 1px 2px rgba(0, 0, 0, 0.3));\n",
              "      fill: #FFFFFF;\n",
              "    }\n",
              "  </style>\n",
              "\n",
              "      <script>\n",
              "        const buttonEl =\n",
              "          document.querySelector('#df-ba0ec30b-67d8-400a-9c74-9660e0b971d4 button.colab-df-convert');\n",
              "        buttonEl.style.display =\n",
              "          google.colab.kernel.accessAllowed ? 'block' : 'none';\n",
              "\n",
              "        async function convertToInteractive(key) {\n",
              "          const element = document.querySelector('#df-ba0ec30b-67d8-400a-9c74-9660e0b971d4');\n",
              "          const dataTable =\n",
              "            await google.colab.kernel.invokeFunction('convertToInteractive',\n",
              "                                                     [key], {});\n",
              "          if (!dataTable) return;\n",
              "\n",
              "          const docLinkHtml = 'Like what you see? Visit the ' +\n",
              "            '<a target=\"_blank\" href=https://colab.research.google.com/notebooks/data_table.ipynb>data table notebook</a>'\n",
              "            + ' to learn more about interactive tables.';\n",
              "          element.innerHTML = '';\n",
              "          dataTable['output_type'] = 'display_data';\n",
              "          await google.colab.output.renderOutput(dataTable, element);\n",
              "          const docLink = document.createElement('div');\n",
              "          docLink.innerHTML = docLinkHtml;\n",
              "          element.appendChild(docLink);\n",
              "        }\n",
              "      </script>\n",
              "    </div>\n",
              "  </div>\n",
              "  "
            ]
          },
          "metadata": {},
          "execution_count": 4
        }
      ],
      "source": [
        "df = pd.read_csv('gpu_running_time.csv')\n",
        "df"
      ]
    },
    {
      "cell_type": "markdown",
      "metadata": {
        "id": "odlFBKcUtyh2"
      },
      "source": [
        "We convert the dataframe to a numpy array and extract the features (X) and target (y). \n",
        "\n"
      ]
    },
    {
      "cell_type": "code",
      "execution_count": null,
      "metadata": {
        "id": "GbKSHnOTt0zE"
      },
      "outputs": [],
      "source": [
        "data = df.to_numpy()\n",
        "X = data[:,:15]\n",
        "y = np.mean(data[:,15:],axis=1)\n",
        "\n",
        "X_train, X_test, y_train, y_test = train_test_split(X, y, test_size=0.3, random_state=4361)"
      ]
    },
    {
      "cell_type": "markdown",
      "metadata": {
        "id": "LNcoyxmJt3A3"
      },
      "source": [
        "As a baseline, we evaluate the error when we use the mean y train as predicition for all examples in the test set. "
      ]
    },
    {
      "cell_type": "code",
      "execution_count": null,
      "metadata": {
        "id": "K0HD-Xsrt5Ac",
        "colab": {
          "base_uri": "https://localhost:8080/"
        },
        "outputId": "70bd288e-95ff-41f0-e5de-b2c4c22a9ced"
      },
      "outputs": [
        {
          "output_type": "stream",
          "name": "stdout",
          "text": [
            "Mean squared error = 134935.89\n",
            "Mean absolute error =  216.03\n"
          ]
        }
      ],
      "source": [
        "pred = np.mean(y_train)+np.zeros_like(y_test)\n",
        "print('Mean squared error = {:5.2f}'.format(mean_squared_error(pred,y_test)))\n",
        "print('Mean absolute error =  {:5.2f}'.format(mean_absolute_error(pred,y_test)))"
      ]
    },
    {
      "cell_type": "markdown",
      "metadata": {
        "id": "igzagavvHuxl"
      },
      "source": [
        "Now let's evaluate a decision tree regressor for this task. "
      ]
    },
    {
      "cell_type": "code",
      "execution_count": null,
      "metadata": {
        "id": "NGILsrwyH1Ud",
        "colab": {
          "base_uri": "https://localhost:8080/"
        },
        "outputId": "417ff3e3-592c-4b8d-dd2f-e28de38552b2"
      },
      "outputs": [
        {
          "output_type": "stream",
          "name": "stdout",
          "text": [
            "Mean squared error =  8.72\n",
            "Mean absolute error =   1.04\n"
          ]
        }
      ],
      "source": [
        "model = DecisionTreeRegressor()\n",
        "model.fit(X_train,y_train)\n",
        "pred = model.predict(X_test)\n",
        "print('Mean squared error = {:5.2f}'.format(mean_squared_error(pred,y_test)))\n",
        "print('Mean absolute error =  {:5.2f}'.format(mean_absolute_error(pred,y_test)))"
      ]
    },
    {
      "cell_type": "markdown",
      "metadata": {
        "id": "wUhFGgenH3xO"
      },
      "source": [
        "We'd expect a random forest to perform better than a single tree. Let's see if that is the case."
      ]
    },
    {
      "cell_type": "code",
      "execution_count": null,
      "metadata": {
        "id": "WCWr09IRH7xo",
        "colab": {
          "base_uri": "https://localhost:8080/"
        },
        "outputId": "943e901b-cdd2-4be3-cbf9-fddc1fc7cc28"
      },
      "outputs": [
        {
          "output_type": "stream",
          "name": "stdout",
          "text": [
            "Mean squared error =  4.83\n",
            "Mean absolute error =   0.80\n"
          ]
        }
      ],
      "source": [
        "model = RandomForestRegressor()\n",
        "model.fit(X_train,y_train)\n",
        "pred = model.predict(X_test)\n",
        "print('Mean squared error = {:5.2f}'.format(mean_squared_error(pred,y_test)))\n",
        "print('Mean absolute error =  {:5.2f}'.format(mean_absolute_error(pred,y_test)))"
      ]
    },
    {
      "cell_type": "markdown",
      "metadata": {
        "id": "vAJqexHTH94x"
      },
      "source": [
        "k-nn can also be used for regression. Let's see how well it works in this problem. Warning: it takes a while to run!"
      ]
    },
    {
      "cell_type": "code",
      "execution_count": null,
      "metadata": {
        "id": "_OPCFiSgIBNA",
        "colab": {
          "base_uri": "https://localhost:8080/"
        },
        "outputId": "9305cfbe-d48f-4acb-9fef-5c013ae7515e"
      },
      "outputs": [
        {
          "output_type": "stream",
          "name": "stdout",
          "text": [
            "Mean squared error = 11.49\n",
            "Mean absolute error =   1.63\n"
          ]
        }
      ],
      "source": [
        "model = KNeighborsRegressor(algorithm='brute',n_jobs=-1)\n",
        "model.fit(X_train,y_train)\n",
        "pred = model.predict(X_test)\n",
        "print('Mean squared error = {:5.2f}'.format(mean_squared_error(pred,y_test)))\n",
        "print('Mean absolute error =  {:5.2f}'.format(mean_absolute_error(pred,y_test)))"
      ]
    },
    {
      "cell_type": "markdown",
      "metadata": {
        "id": "p1cn2xJYIFFS"
      },
      "source": [
        "## Exercises\n",
        "\n",
        "Let's build our own ensembles of decision tree regressors to see if we can surpass the performance of random forests using the same number of individual trees (the sklearn implementation uses 100 by default). So, instead of using sklearn's RandomForestRegressor, we will build the ensemble ourselves by building 100 trees (use a loop)."
      ]
    },
    {
      "cell_type": "markdown",
      "metadata": {
        "id": "Mpbq6ORhIN4e"
      },
      "source": [
        "1. Build an ensemble that uses 100 trees with random splitting instead of best splitting to solve the problem. Print the mean squared error and mean absolute error evaluated on the test dataset. Each tree should be an instance of the DecisionTreeRegressor class - use the [splitter](https://scikit-learn.org/stable/modules/generated/sklearn.tree.DecisionTreeRegressor.html) argument to tell sklearn how to choose the split at each node."
      ]
    },
    {
      "cell_type": "code",
      "execution_count": null,
      "metadata": {
        "id": "ic6h6vN-IdSR",
        "colab": {
          "base_uri": "https://localhost:8080/"
        },
        "outputId": "c2e8f75e-77db-484b-ce99-6b69e9f0aafe"
      },
      "outputs": [
        {
          "output_type": "stream",
          "name": "stdout",
          "text": [
            "Mean squared error = 3.6277\n",
            "Mean absolute error =  0.6621\n"
          ]
        }
      ],
      "source": [
        "# Your code goes here\n",
        "Tree=100\n",
        "def Ensemble(X,y):\n",
        "  Enb=[]\n",
        "  for i in range(Tree):\n",
        "    model=DecisionTreeRegressor(splitter='random')\n",
        "    model.fit(X,y)\n",
        "    Enb.append(model)\n",
        "  return Enb\n",
        "\n",
        "E=Ensemble(X_train, y_train)\n",
        "prediction=np.zeros((len(E),X_test.shape[0]))\n",
        "\n",
        "for i in range(len(E)):\n",
        "  prediction[i]=E[i].predict(X_test)\n",
        "mean_prediction=np.mean(prediction, axis=0)\n",
        "print('Mean squared error = {:5.4f}'.format(mean_squared_error(mean_prediction,y_test)))\n",
        "print('Mean absolute error =  {:5.4f}'.format(mean_absolute_error(mean_prediction,y_test)))"
      ]
    },
    {
      "cell_type": "markdown",
      "metadata": {
        "id": "LHCUY6hxIeyp"
      },
      "source": [
        "2. Build an ensemble that uses bagging and 100 trees to solve the problem. Print the mean squared error and mean absolute error evaluated on the test dataset. Each tree should be an instance of the DecisionTreeRegressor class."
      ]
    },
    {
      "cell_type": "code",
      "execution_count": null,
      "metadata": {
        "id": "4pKHcwpVInNk",
        "colab": {
          "base_uri": "https://localhost:8080/"
        },
        "outputId": "29846d50-af0b-4073-fd20-60f39ccf4432"
      },
      "outputs": [
        {
          "output_type": "stream",
          "name": "stdout",
          "text": [
            "Mean squared error = 4.8452\n",
            "Mean absolute error =  0.8008\n"
          ]
        }
      ],
      "source": [
        "# Your code goes here\n",
        "Tree=100\n",
        "def Ensemble_bagging(X,y):\n",
        "  Enb=[]\n",
        "  for i in range(Tree):\n",
        "    model=DecisionTreeRegressor()\n",
        "    a = np.random.randint(low=0, high=X.shape[0], size=X.shape[0])\n",
        "    model.fit(X[a],y[a])\n",
        "    Enb.append(model)\n",
        "  return Enb\n",
        "\n",
        "E=Ensemble_bagging(X_train, y_train)\n",
        "prediction=np.zeros((len(E),X_test.shape[0]))\n",
        "\n",
        "for i in range(len(E)):\n",
        "  prediction[i]=E[i].predict(X_test)\n",
        "mean_prediction=np.mean(prediction, axis=0)\n",
        "print('Mean squared error = {:5.4f}'.format(mean_squared_error(mean_prediction,y_test)))\n",
        "print('Mean absolute error =  {:5.4f}'.format(mean_absolute_error(mean_prediction,y_test)))"
      ]
    },
    {
      "cell_type": "markdown",
      "metadata": {
        "id": "uFVy051iInu5"
      },
      "source": [
        "3. Build an ensemble that uses random attribute selection and 100 regression trees to solve the problem. Print the mean squared error and mean absolute error evaluated on the test dataset. Each tree should be an instance of the DecisionTreeRegressor class."
      ]
    },
    {
      "cell_type": "code",
      "execution_count": null,
      "metadata": {
        "id": "yvqCaa6KIzQ5",
        "colab": {
          "base_uri": "https://localhost:8080/"
        },
        "outputId": "265f7a0a-3b75-4a9b-9116-15b93c83d5e9"
      },
      "outputs": [
        {
          "output_type": "stream",
          "name": "stdout",
          "text": [
            "Mean squared error = 4.8452\n",
            "Mean absolute error =  0.8008\n"
          ]
        }
      ],
      "source": [
        "# Your code goes here\n",
        "Tree=100\n",
        "def Ensemble_RandomAttribute(X,y):\n",
        "  Enb=np.zeros((Tree,X_test.shape[0]))\n",
        "  for i in range(Tree):\n",
        "    model=DecisionTreeRegressor()\n",
        "    a = np.array(np.random.randint(low=0, high=2, size=X.shape[1]), dtype=bool)\n",
        "    model.fit(X[:, a], y)\n",
        "    Enb[i] = model.predict(X_test[:, a])\n",
        "  return Enb\n",
        "\n",
        "E=Ensemble_RandomAttribute(X_train, y_train)\n",
        "mean_prediction=np.mean(prediction, axis=0)\n",
        "print('Mean squared error = {:5.4f}'.format(mean_squared_error(mean_prediction,y_test)))\n",
        "print('Mean absolute error =  {:5.4f}'.format(mean_absolute_error(mean_prediction,y_test)))"
      ]
    },
    {
      "cell_type": "markdown",
      "metadata": {
        "id": "UBSCuu6I4BkJ"
      },
      "source": [
        "## Submission Instructions\n",
        "\n",
        "1. File > Download .ipynb\n",
        "2. Go to Blackboard, find the submission page, and upload the .ipynb file you just downloaded."
      ]
    }
  ],
  "metadata": {
    "accelerator": "GPU",
    "colab": {
      "machine_shape": "hm",
      "provenance": [],
      "include_colab_link": true
    },
    "kernelspec": {
      "display_name": "Python 3",
      "name": "python3"
    },
    "language_info": {
      "name": "python"
    }
  },
  "nbformat": 4,
  "nbformat_minor": 0
}